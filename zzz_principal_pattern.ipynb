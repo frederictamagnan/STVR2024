{
 "cells": [
  {
   "cell_type": "code",
   "execution_count": 1,
   "metadata": {},
   "outputs": [
    {
     "name": "stdout",
     "output_type": "stream",
     "text": [
      "/home/ftamagnan-unix/codevault/stvr_v3\n"
     ]
    },
    {
     "name": "stdout",
     "output_type": "stream",
     "text": [
      "/home/ftamagnan-unix/codevault/stvr_v3\n"
     ]
    }
   ],
   "source": [
    "\n",
    "import sys\n",
    "import os\n",
    "sys.path.append('../')\n",
    "print(os.getcwd())\n",
    "import numpy as np\n",
    "import matplotlib.pyplot as plt\n",
    "import seaborn as sns\n",
    "import json\n",
    "from agilkia import TraceSet\n",
    "from sklearn.feature_extraction.text import CountVectorizer\n",
    "from itertools import groupby\n",
    "from spmf import Spmf\n",
    "import numpy as np\n",
    "import json\n",
    "from os.path import exists\n",
    "from pprint import pprint\n",
    "from utils_experiments import load_config_dict\n",
    "from stvr.utils_preprocessing import *\n",
    "from collections import defaultdict"
   ]
  },
  {
   "cell_type": "code",
   "execution_count": 2,
   "metadata": {},
   "outputs": [],
   "source": [
    "from stvr.pcdc_v2 import PatternCoverageDrivenClustering\n",
    "from stvr.utils_preprocessing import load_traceset\n",
    "from stvr.cp_kmeans_with_sampling import Sampling\n",
    "from stvr.cp_agglutinate import AgglutinatePipeline\n",
    "from stvr.cp_kmedoids_pipeline import KMedoidsPipeline\n",
    "from stvr.cp_pattern_encoding_kmeans import KmeansPipelinePatternOneHot\n",
    "from stvr.cp_kmeans_with_w2v import KmeansW2v\n",
    "from stvr.cp_no_clustering_only_sampling import NoClustering,OnlySampling\n",
    "from stvr.cp_kmeans_with_sampling import Sampling\n",
    "from stvr.cp_vae_encoding_kmeans import VAEEncodingKmeans\n",
    "from stvr.cp_kmedoids_pipeline import  KMedoidsPipeline\n",
    "from stvr.cp_kmeans_with_centroids_choice import CentroidsChoice,KmeansPipeline\n",
    "from pprint import pprint\n",
    "from stvr.cp_aiay_encoding_kmeans_v2 import AIAY\n",
    "from stvr.cp_aiay_encoding_plus_v2 import AIAYPlus\n",
    "from stvr.cp_kmeans_with_w2v_plus import KmeansW2vPlus\n",
    "from stvr.cp_vae_encoding_plus import VAEEncodingKmeansPlus\n",
    "# from stvr.cp_kmeans_with_best_usage_choice import BUC\n",
    "from stvr.cp_kmeans_with_best_usage_choice_v2 import BUC\n",
    "from stvr.cp_tfidf import TfIdf\n",
    "from stvr.cp_tfidf_plus import TfIdfPlus\n",
    "from stvr.cp_bow_plus import BowPlus\n",
    "# from stvr.cp_pattern_encoding_kmeans import KmeansPipelinePatternOneHot\n",
    "import sys\n",
    "import json\n",
    "import uuid\n",
    "# from stvr.utils_vae import argss,testargs\n",
    "from stvr.utils_vae import Hyperparameters"
   ]
  },
  {
   "cell_type": "code",
   "execution_count": 3,
   "metadata": {},
   "outputs": [],
   "source": [
    "datasets=[\"femto_booking_agilkia_v6\",\"spree_5000_session_wo_responses_agilkia\",\"teaming_execution\",\"scanette_100043-steps\"]\n",
    "\n",
    "freq_dict={\n",
    "    \"spree_5000_session_wo_responses_agilkia\":{\"freq\":0.5},\n",
    "    \"femto_booking_agilkia_v6\":{\"freq\":0.06},\n",
    "    \"scanette_100043-steps\":{\"freq\":0.2},\n",
    "    \"teaming_execution\":{\"freq\":0.005}\n",
    "}\n",
    "\n",
    "\n",
    "# vae_dict={\n",
    "#     \"spree_5000_session_wo_responses_agilkia\":{\"arch\":\"VAE\"},\n",
    "#     \"femto_booking_agilkia_v6\":{\"arch\":\"VAE\"},\n",
    "#     \"scanette_100043\":{\"arch\":\"VAE\"},\n",
    "#     \"teaming_execution\":{\"arch\":\"VAE\"}\n",
    "# }\n",
    "\n",
    "vae_dict={dataset_name:{'arch':'VAE',\"freq\":freq_dict[dataset_name]['freq']} for dataset_name in datasets}\n",
    "ae_dict={dataset_name:{\"arch\":\"AE\",\"freq\":freq_dict[dataset_name]['freq']} for dataset_name in datasets}\n",
    "daae_dict={dataset_name:{\"arch\":\"DAAE\",\"freq\":freq_dict[dataset_name]['freq']} for dataset_name in datasets}\n",
    "\n",
    "# print(vae_dict)\n",
    "pipelines=[]"
   ]
  },
  {
   "cell_type": "code",
   "execution_count": 4,
   "metadata": {},
   "outputs": [],
   "source": [
    "datapath='./data/datasets/'\n",
    "# dataset_name=\"femto_booking_agilkia_v6\"/\n",
    "# dataset_name=\"femto_booking_with_drain_agilkia_v4\"\n",
    "# dataset_name=\"spree_5000_session_wo_responses_agilkia\"\n",
    "# dataset_name=\"teaming_execution\"\n",
    "dataset_name=\"teaming_execution\"\n",
    "# dataset_name=\"scanette_100043-steps\"\n",
    "\n",
    "config_dict=load_config_dict('./config/config.json')\n",
    "config_dict_exp=config_dict['experiments']\n",
    "freq=config_dict_exp[dataset_name]['freq']\n",
    "traceset=load_traceset(datapath,dataset_name)\n",
    "# textset=traceset_to_textset(traceset,format='lst')\n"
   ]
  },
  {
   "cell_type": "code",
   "execution_count": 5,
   "metadata": {},
   "outputs": [
    {
     "name": "stdout",
     "output_type": "stream",
     "text": [
      "./data/datasets/\n"
     ]
    }
   ],
   "source": [
    "pipeline_tuple=(\"-|Kmedpods|RS\",AIAYPlus,Sampling,daae_dict)\n",
    "filepath=config_dict_exp[dataset_name]['datapath']\n",
    "print(filepath)"
   ]
  },
  {
   "cell_type": "code",
   "execution_count": 6,
   "metadata": {},
   "outputs": [
    {
     "name": "stdout",
     "output_type": "stream",
     "text": [
      "here /home/ftamagnan-unix/codevault/stvr_v3\n",
      "maximum 30\n"
     ]
    },
    {
     "name": "stderr",
     "output_type": "stream",
     "text": [
      "/home/ftamagnan-unix/.local/lib/python3.8/site-packages/torch/nn/functional.py:4999: UserWarning: Support for mismatched src_key_padding_mask and mask is deprecated. Use same type for both instead.\n",
      "  warnings.warn(\n"
     ]
    },
    {
     "name": "stdout",
     "output_type": "stream",
     "text": [
      "here /home/ftamagnan-unix/codevault/stvr_v3\n"
     ]
    },
    {
     "name": "stderr",
     "output_type": "stream",
     "text": [
      "/home/ftamagnan-unix/.local/lib/python3.8/site-packages/sklearn/cluster/_kmeans.py:870: FutureWarning: The default value of `n_init` will change from 10 to 'auto' in 1.4. Set the value of `n_init` explicitly to suppress the warning\n",
      "  warnings.warn(\n"
     ]
    }
   ],
   "source": [
    "clustering_pipeline=pipeline_tuple[1](dataset_name=dataset_name,filepath=filepath,**pipeline_tuple[3][dataset_name])\n",
    "sample_heuristic=pipeline_tuple[2]()\n",
    "cluster_nb=9\n",
    "p=PatternCoverageDrivenClustering(name_exp=None,clustering_pipeline=clustering_pipeline,sample_heuristic=sample_heuristic,execution_traces_agilkia_format=traceset,filepath=filepath,dataset_name=dataset_name,freq=freq,cluster_nb=cluster_nb)\n",
    "# clustering_pipeline.filepath=\".\"+clustering_pipeline.filepath\n",
    "X=clustering_pipeline.preprocessor(traceset)\n",
    "cluster_labels=clustering_pipeline.fit_predict(X,cluster_nb)"
   ]
  },
  {
   "cell_type": "code",
   "execution_count": 7,
   "metadata": {},
   "outputs": [],
   "source": [
    "lst_patterns=p.pc[freq[0]].lst_patterns"
   ]
  },
  {
   "cell_type": "code",
   "execution_count": 8,
   "metadata": {},
   "outputs": [],
   "source": [
    "listset=traceset_to_textset(traceset,format='lst')\n",
    "# print(len(lst_patterns))\n",
    "# patterns={}\n",
    "# for i in range(max(cluster_labels)+1):\n",
    "#     patterns[i]={}\n",
    "#     nb_trace_in_cluster=0\n",
    "#     for idx_pattern,pattern in enumerate(lst_patterns):\n",
    "#         for j,trace in enumerate(listset):\n",
    "#             if cluster_labels[j]==i:\n",
    "#                 if pattern_in_sentence(pattern[0],trace) and idx_pattern not in patterns[i]:\n",
    "#                     patterns[i][idx_pattern]=1\n",
    "#                 if pattern_in_sentence(pattern[0],trace) and idx_pattern in patterns[i]:\n",
    "#                     patterns[i][idx_pattern]+=1\n",
    "     \n",
    "#     for idx_pattern,pattern in enumerate(lst_patterns):\n",
    "#         if idx_pattern in patterns[i]:\n",
    "#             # patterns[i][idx_pattern]=patterns[i][idx_pattern]/lst_patterns[idx_pattern][1]\n",
    "#             count = np.count_nonzero(cluster_labels == i)\n",
    "#             # print(patterns[i][idx_pattern])\n",
    "#             tf = patterns[i][idx_pattern]/count\n",
    "#             idf = len(listset)/lst_patterns[idx_pattern][1]\n",
    "#             maxtf=max(patterns[i].values())\n",
    "#             maxtf=maxtf/count\n",
    "#             ntf=0.5+0.5*(tf/maxtf)\n",
    "#             patterns[i][idx_pattern]=ntf*idf\n",
    "#         else:\n",
    "#             count = np.count_nonzero(cluster_labels == i)\n",
    "#             tf = 0\n",
    "#             idf = len(listset)/lst_patterns[idx_pattern][1]\n",
    "#             maxtf=max(patterns[i].values())/count\n",
    "#             ntf=0.5+0.5*(tf/maxtf)\n",
    "#             patterns[i][idx_pattern]=ntf*idf\n",
    "                        \n"
   ]
  },
  {
   "cell_type": "code",
   "execution_count": 9,
   "metadata": {},
   "outputs": [],
   "source": [
    "# print(patterns)"
   ]
  },
  {
   "cell_type": "code",
   "execution_count": 10,
   "metadata": {},
   "outputs": [],
   "source": [
    "# def get_top_and_bottom_patterns(cluster_dict, n=5):\n",
    "#     top_bottom_patterns = {}\n",
    "#     for cluster_id, pattern_dict in cluster_dict.items():\n",
    "#         # Sort patterns by frequency\n",
    "#         sorted_patterns = sorted(pattern_dict.items(), key=lambda x: x[1], reverse=True)\n",
    "#         top_patterns = sorted_patterns[:n]\n",
    "#         bottom_patterns = sorted_patterns[-n:]\n",
    "#         top_bottom_patterns[cluster_id] = {'top': dict(top_patterns), 'bottom': dict(bottom_patterns)}\n",
    "#     return top_bottom_patterns\n",
    "\n",
    "# top_bottom=get_top_and_bottom_patterns(patterns,n=5)\n",
    "\n",
    "# for cluster_id, top_bot_dict in top_bottom.items():\n",
    "#     print('\\n top --- :')\n",
    "#     for k,v in top_bot_dict['top'].items():\n",
    "#         print(lst_patterns[k][0],v)\n",
    "#     print('\\n bot --- :')\n",
    "#     for k,v in top_bot_dict['bottom'].items():\n",
    "#         print(lst_patterns[k][0],v)"
   ]
  },
  {
   "cell_type": "code",
   "execution_count": 11,
   "metadata": {},
   "outputs": [],
   "source": [
    "# num_clusters = max(cluster_labels)+1\n",
    "# num_tokens = len(lst_patterns)\n",
    "\n",
    "# # Initialize an empty NumPy array with zeros\n",
    "# matrix = np.zeros((num_clusters, num_tokens))\n",
    "\n",
    "# # Populate the matrix with the weights from the dictionary\n",
    "# for cluster_id, token_weights in patterns.items():\n",
    "#     for token_id, weight in token_weights.items():\n",
    "#         matrix[cluster_id][token_id] = weight"
   ]
  },
  {
   "cell_type": "code",
   "execution_count": 12,
   "metadata": {},
   "outputs": [],
   "source": [
    "# print(matrix)"
   ]
  },
  {
   "cell_type": "code",
   "execution_count": 13,
   "metadata": {},
   "outputs": [],
   "source": [
    "# min_value = np.min(matrix)\n",
    "# max_value = np.max(matrix)\n",
    "\n",
    "# # Normalize the matrix using min-max scaling\n",
    "# normalized_matrix = (matrix - min_value) / (max_value - min_value)"
   ]
  },
  {
   "cell_type": "code",
   "execution_count": 14,
   "metadata": {},
   "outputs": [],
   "source": [
    "# import numpy as np\n",
    "# import matplotlib.pyplot as plt\n",
    "# import seaborn as sns\n",
    "\n",
    "# # Create a random example matrix of token weights for clusters (replace this with your actual data)\n",
    "# # In this example, I'm using random values between 0 and 1.\n",
    "# np.random.seed(0)\n",
    "# token_weights = normalized_matrix\n",
    "\n",
    "# # Create a heatmap using Seaborn with a colormap from red to green\n",
    "# plt.figure(figsize=(10, 8))\n",
    "# sns.heatmap(token_weights, cmap=\"RdYlGn\", xticklabels=False, yticklabels=False,linewidths=0.5, linecolor='white')\n",
    "\n",
    "# plt.xlabel(\"Patterns\")\n",
    "# plt.ylabel(\"Clusters\")\n",
    "# plt.title(\"Pattern Importance Heatmap for Clusters (Red to Green)\")\n",
    "# plt.show()"
   ]
  },
  {
   "cell_type": "code",
   "execution_count": 15,
   "metadata": {},
   "outputs": [],
   "source": [
    "# import numpy as np\n",
    "# from scipy import stats\n",
    "\n",
    "# # Sample data\n",
    "# num_tokens=len(lst_patterns)\n",
    "# X=np.load('./data/datasets/spmf_one_hot_'+dataset_name+'_'+str(freq[0])+'_v2.npy')\n",
    "# num_clusters=max(cluster_labels)+1\n",
    "# Y = cluster_labels  # Replace with your binary target vector (0 or 1)\n",
    "# matrix = np.zeros((num_clusters, num_tokens))\n",
    "# n_features=X.shape[1]\n",
    "# correlation_matrix = np.zeros((num_clusters, n_features))\n",
    "# for c in range(num_clusters):\n",
    "#     # X_prime = X[Y == c]\n",
    "\n",
    "#     # Create binary target vector Y' based on the condition\n",
    "#     Y_prime = np.where(Y == c, 1, 0)\n",
    "\n",
    "#     # Calculate point biserial correlation for each feature\n",
    "#     point_biserial_correlations = []\n",
    "#     for feature_idx in range(n_features):\n",
    "#         r, p = stats.pointbiserialr(X[:, feature_idx], Y_prime)\n",
    "#         correlation_matrix[c, feature_idx] = r\n",
    "\n",
    "    # Print the results\n",
    "    # for feature_idx, (r, p) in enumerate(point_biserial_correlations):\n",
    "    #     print(f\"Feature {feature_idx+1}: Point Biserial Correlation = {r:.4f}, p-value = {p:.4f}\")"
   ]
  },
  {
   "cell_type": "code",
   "execution_count": 16,
   "metadata": {},
   "outputs": [],
   "source": [
    "import numpy as np\n",
    "\n",
    "# Create your binary vectors (replace these with your actual data)\n",
    "def phi_coefficient(vector_a,vector_b):\n",
    "# Create a 2x2 contingency table\n",
    "    contingency_table = np.array([[np.sum((vector_a == 0) & (vector_b == 0)),\n",
    "                                np.sum((vector_a == 0) & (vector_b == 1))],\n",
    "                                [np.sum((vector_a == 1) & (vector_b == 0)),\n",
    "                                np.sum((vector_a == 1) & (vector_b == 1))]])\n",
    "\n",
    "    # Calculate the Phi coefficient\n",
    "    a = contingency_table[0, 0]\n",
    "    b = contingency_table[0, 1]\n",
    "    c = contingency_table[1, 0]\n",
    "    d = contingency_table[1, 1]\n",
    "\n",
    "    phi = (a * d - b * c) / np.sqrt((a + b) * (c + d) * (a + c) * (b + d))\n",
    "\n",
    "    return phi\n"
   ]
  },
  {
   "cell_type": "code",
   "execution_count": 17,
   "metadata": {},
   "outputs": [
    {
     "name": "stderr",
     "output_type": "stream",
     "text": [
      "/tmp/ipykernel_458/395447875.py:17: RuntimeWarning: invalid value encountered in scalar divide\n",
      "  phi = (a * d - b * c) / np.sqrt((a + b) * (c + d) * (a + c) * (b + d))\n"
     ]
    }
   ],
   "source": [
    "import numpy as np\n",
    "from scipy import stats\n",
    "\n",
    "# Sample data\n",
    "num_tokens=len(lst_patterns)\n",
    "X=np.load('./data/datasets/spmf_one_hot_'+dataset_name+'_'+str(freq[0])+'_v2.npy')\n",
    "num_clusters=max(cluster_labels)+1\n",
    "if type(cluster_labels)==list:\n",
    "    cluster_labels=np.array(cluster_labels)\n",
    "Y = cluster_labels  # Replace with your binary target vector (0 or 1)\n",
    "n_features=X.shape[1]\n",
    "correlation_matrix = np.zeros((num_clusters, n_features))\n",
    "for c in range(num_clusters):\n",
    "    # X_prime = X[Y == c]\n",
    "\n",
    "    # Create binary target vector Y' based on the condition\n",
    "    Y_prime = np.where(Y == c, 1, 0)\n",
    "\n",
    "    for feature_idx in range(n_features):\n",
    "        phi=phi_coefficient(X[:, feature_idx], Y_prime)\n",
    "        correlation_matrix[c, feature_idx] = phi"
   ]
  },
  {
   "cell_type": "code",
   "execution_count": null,
   "metadata": {},
   "outputs": [],
   "source": []
  },
  {
   "cell_type": "code",
   "execution_count": 18,
   "metadata": {},
   "outputs": [
    {
     "data": {
      "image/png": "[encoded data removed]",
      "text/plain": [
       "<Figure size 1000x800 with 2 Axes>"
      ]
     },
     "metadata": {},
     "output_type": "display_data"
    }
   ],
   "source": [
    "\n",
    "\n",
    "# Create a random example matrix of token weights for clusters (replace this with your actual data)\n",
    "# In this example, I'm using random values between 0 and 1.\n",
    "np.random.seed(0)\n",
    "token_weights = correlation_matrix\n",
    "\n",
    "# Create a heatmap using Seaborn with a colormap from red to green\n",
    "plt.figure(figsize=(10, 8))\n",
    "sns.heatmap(token_weights, cmap=\"RdYlGn\", xticklabels=False, yticklabels=False,linewidths=0.5, linecolor='white')\n",
    "\n",
    "plt.xlabel(\"Patterns\")\n",
    "plt.ylabel(\"Clusters\")\n",
    "# plt.title(\"Pattern Importance Heatmap for Clusters (Red to Green)\")\n",
    "plt.show()"
   ]
  },
  {
   "cell_type": "code",
   "execution_count": 19,
   "metadata": {},
   "outputs": [
    {
     "name": "stdout",
     "output_type": "stream",
     "text": [
      "Top Positive Values:\n",
      "Top Positive Values:\n",
      "Top Positive Values:\n",
      "Top Positive Values:\n",
      "Top Positive Values:\n",
      "Top Positive Values:\n",
      "Top Positive Values:\n",
      "Top Positive Values:\n",
      "Top Positive Values:\n"
     ]
    }
   ],
   "source": [
    "weights=correlation_matrix\n",
    "# Find the top 5 positive and negative values for each cluster\n",
    "top_positive_values = []\n",
    "top_negative_values = []\n",
    "top_n=6\n",
    "val=[]\n",
    "for row in weights:\n",
    "    # Sort indices based on the absolute value of weights\n",
    "    sorted_indices = np.argsort(np.abs(row))[-top_n:]\n",
    "    \n",
    "    # Get the top N indices for positive and negative values\n",
    "    top_positive = sorted([index for index in sorted_indices if row[index] >= 0])\n",
    "    top_negative = sorted([index for index in sorted_indices if row[index] < 0])\n",
    "    \n",
    "    # Append to the respective lists\n",
    "   \n",
    "\n",
    "# Print the results\n",
    "    print(\"Top Positive Values:\")\n",
    "    val.append([top_positive,top_negative])\n"
   ]
  },
  {
   "cell_type": "code",
   "execution_count": 20,
   "metadata": {},
   "outputs": [
    {
     "name": "stdout",
     "output_type": "stream",
     "text": [
      "\\hline\n",
      "8&\\textcolor{blue}P89,\n"
     ]
    }
   ],
   "source": [
    "for i,row in enumerate(val):\n",
    "    a='\\hline\\n'+str(i)+'&'\n",
    "    for blue in row[1]:\n",
    "        a+=r'\\textcolor{blue}P'+str(blue)+','\n",
    "        \n",
    "print(a)"
   ]
  },
  {
   "cell_type": "code",
   "execution_count": 21,
   "metadata": {},
   "outputs": [
    {
     "name": "stdout",
     "output_type": "stream",
     "text": [
      "\\begin{tabular}{|c|c|c|}\n",
      "\\hline\n",
      "Cluster ID & Positive Discriminative Pattern & Negative Discriminative Pattern \\\\\n",
      "\\hline\n",
      "1 & 11, 46, 58, 79, 89 & - \\\\\n",
      "2 & 5, 55, 59, 86, 97 & - \\\\\n",
      "3 & 31 & 7, 51, 78, 89 \\\\\n",
      "4 & 28 & 18, 31, 65, 78 \\\\\n",
      "5 & 33, 44, 69, 94, 95 & - \\\\\n",
      "6 & 12, 22, 43, 70, 71 & - \\\\\n",
      "7 & 18, 51, 78 & 7, 89 \\\\\n",
      "8 & 45, 48, 77, 80, 88 & - \\\\\n",
      "9 & 7, 23, 65, 78 & 89 \\\\\n",
      "\\hline\n",
      "\\end{tabular}\n"
     ]
    }
   ],
   "source": [
    "data=val\n",
    "latex_code = \"\\\\begin{tabular}{|c|c|c|}\\n\"\n",
    "latex_code += \"\\\\hline\\n\"\n",
    "latex_code += \"Cluster ID & Positive Discriminative Pattern & Negative Discriminative Pattern \\\\\\\\\\n\"\n",
    "latex_code += \"\\\\hline\\n\"\n",
    "\n",
    "for cluster_id, (positive, negative) in enumerate(data, start=1):\n",
    "    # Check if positive and negative lists are empty and replace with '-'\n",
    "    if not positive:\n",
    "        positive_text = '-'\n",
    "    else:\n",
    "        positive_text = ', '.join(map(str, positive))\n",
    "    \n",
    "    if not negative:\n",
    "        negative_text = '-'\n",
    "    else:\n",
    "        negative_text = ', '.join(map(str, negative))\n",
    "    \n",
    "    latex_code += f\"{cluster_id} & {positive_text} & {negative_text} \\\\\\\\\\n\"\n",
    "\n",
    "# LaTeX table footer\n",
    "latex_code += \"\\\\hline\\n\"\n",
    "latex_code += \"\\\\end{tabular}\"\n",
    "\n",
    "# Print the LaTeX code\n",
    "print(latex_code)"
   ]
  },
  {
   "cell_type": "code",
   "execution_count": 22,
   "metadata": {},
   "outputs": [
    {
     "name": "stdout",
     "output_type": "stream",
     "text": [
      "\\begin{tabular}{|c|c|c|}\n",
      "\\hline\n",
      "Cluster ID & Positive Discriminative Pattern & Negative Discriminative Pattern \\\\\n",
      "\\hline\n",
      "1 & \\textcolor{teal}{11 , 46 , 58 , 79 , 89} & - \\\\\n",
      "2 & \\textcolor{teal}{5 , 55 , 59 , 86 , 97} & - \\\\\n",
      "3 & \\textcolor{teal}{31} & \\textcolor{red}{7 , 51 , 78 , 89} \\\\\n",
      "4 & \\textcolor{teal}{28} & \\textcolor{red}{18 , 31 , 65 , 78} \\\\\n",
      "5 & \\textcolor{teal}{33 , 44 , 69 , 94 , 95} & - \\\\\n",
      "6 & \\textcolor{teal}{12 , 22 , 43 , 70 , 71} & - \\\\\n",
      "7 & \\textcolor{teal}{18 , 51 , 78} & \\textcolor{red}{7 , 89} \\\\\n",
      "8 & \\textcolor{teal}{45 , 48 , 77 , 80 , 88} & - \\\\\n",
      "9 & \\textcolor{teal}{7 , 23 , 65 , 78} & \\textcolor{red}{89} \\\\\n",
      "\\hline\n",
      "\\end{tabular}\n"
     ]
    }
   ],
   "source": [
    "data=val\n",
    "latex_code = \"\\\\begin{tabular}{|c|c|c|}\\n\"\n",
    "latex_code += \"\\\\hline\\n\"\n",
    "latex_code += \"Cluster ID & Positive Discriminative Pattern & Negative Discriminative Pattern \\\\\\\\\\n\"\n",
    "latex_code += \"\\\\hline\\n\"\n",
    "\n",
    "# Function to format a list of IDs with color\n",
    "def format_pattern_list(pattern_list, color):\n",
    "    if not pattern_list:\n",
    "        return '-'\n",
    "    else:\n",
    "        return f\"\\\\textcolor{{{color}}}{{{' , '.join(map(str, pattern_list))}}}\"\n",
    "\n",
    "# Iterate through the data and format into LaTeX table rows\n",
    "for cluster_id, (positive, negative) in enumerate(data, start=1):\n",
    "    positive_text = format_pattern_list(positive, 'teal')\n",
    "    negative_text = format_pattern_list(negative, 'red')\n",
    "    latex_code += f\"{cluster_id} & {positive_text} & {negative_text} \\\\\\\\\\n\"\n",
    "\n",
    "# LaTeX table footer\n",
    "latex_code += \"\\\\hline\\n\"\n",
    "latex_code += \"\\\\end{tabular}\"\n",
    "\n",
    "# Print the LaTeX code\n",
    "print(latex_code)\n",
    "\n",
    "\n",
    "\n",
    "\n",
    "\n",
    "\n"
   ]
  },
  {
   "cell_type": "code",
   "execution_count": 23,
   "metadata": {},
   "outputs": [
    {
     "name": "stdout",
     "output_type": "stream",
     "text": [
      "[[[11, 46, 58, 79, 89], []], [[5, 55, 59, 86, 97], []], [[31], [7, 51, 78, 89]], [[28], [18, 31, 65, 78]], [[33, 44, 69, 94, 95], []], [[12, 22, 43, 70, 71], []], [[18, 51, 78], [7, 89]], [[45, 48, 77, 80, 88], []], [[7, 23, 65, 78], [89]]]\n"
     ]
    }
   ],
   "source": [
    "print(data)"
   ]
  },
  {
   "cell_type": "code",
   "execution_count": 24,
   "metadata": {},
   "outputs": [
    {
     "name": "stdout",
     "output_type": "stream",
     "text": [
      "\n",
      " cluster 0\n",
      "pos\n",
      "[['<sos>', 'PUT|/api//customers//sites//callcenters//announcement|None', '<eos>'], 525]\n",
      "[['<sos>', 'PUT|/api//customers//sites//services//CallForwardingSelective|None', '<eos>'], 124]\n",
      "[['<sos>', 'PUT|/api//customers//sites//callcenters//announcement|None', 'PUT|/api//customers//sites//callcenters//incomingCall|None', '<eos>'], 243]\n",
      "[['<sos>', 'PUT|/api//customers//sites//callcenters//incomingCall|None', 'PUT|/api//customers//sites//callcenters//announcement|None', '<eos>'], 281]\n",
      "[['<sos>', 'PUT|/api//customers//sites//callcenters//incomingCall|None', '<eos>'], 845]\n",
      "neg\n",
      "\n",
      " cluster 1\n",
      "pos\n",
      "[['<sos>', 'PUT|/api//customers//sites//users//softkeys/|None', '<eos>'], 437]\n",
      "[['<sos>', 'PUT|/api//customers//sites//users//blfList|None', 'POST|/api//customers//sites//users//softkeys|None', '<eos>'], 148]\n",
      "[['<sos>', 'POST|/api//customers//sites//users//softkeys|None', '<eos>'], 618]\n",
      "[['<sos>', 'POST|/api//customers//sites//users//softkeys|None', 'PUT|/api//customers//sites//users//blfList|None', '<eos>'], 188]\n",
      "[['<sos>', 'PUT|/api//customers//sites//users//blfList|None', '<eos>'], 482]\n",
      "neg\n",
      "\n",
      " cluster 2\n",
      "pos\n",
      "[['<sos>', 'POST|/api//customers//sites//terminals|None', '<eos>'], 768]\n",
      "neg\n",
      "[['<sos>', 'PUT|/api//customers//sites//users/|None', '<eos>'], 1417]\n",
      "[['<sos>', 'POST|/api//customers//sites//users|None', '<eos>'], 812]\n",
      "[['<sos>', 'PATCH|/api//customers//sites//users//telephonyInformation|None', '<eos>'], 2296]\n",
      "[['<sos>', 'PUT|/api//customers//sites//callcenters//incomingCall|None', '<eos>'], 845]\n",
      "\n",
      " cluster 3\n",
      "pos\n",
      "[['<sos>', 'PUT|/api//customers//sites//users//welcomeEmail|None', '<eos>'], 378]\n",
      "neg\n",
      "[['<sos>', 'PATCH|/api//customers//sites//users//telephonyInformation|None', 'POST|/api//customers//sites//users|None', '<eos>'], 651]\n",
      "[['<sos>', 'POST|/api//customers//sites//terminals|None', '<eos>'], 768]\n",
      "[['<sos>', 'PATCH|/api//customers//sites//users//telephonyInformation|None', 'PUT|/api//customers//sites//users/|None', '<eos>'], 717]\n",
      "[['<sos>', 'PATCH|/api//customers//sites//users//telephonyInformation|None', '<eos>'], 2296]\n",
      "\n",
      " cluster 4\n",
      "pos\n",
      "[['<sos>', 'PUT|/api//customers//sites//packs...|None', 'PUT|/api//customers//sites//packs...|None', 'PUT|/api//customers//sites//packs...|None', 'PUT|/api//customers//sites//packs...|None', 'PUT|/api//customers//sites/|None', 'PUT|/api//customers//defaultService|None', '<eos>'], 68]\n",
      "[['<sos>', 'PUT|/api//customers//sites//packs...|None', 'PUT|/api//customers//sites//packs...|None', 'PUT|/api//customers//sites//packs...|None', 'PUT|/api//customers//sites//packs...|None', 'PUT|/api//customers//sites//options|None', 'PUT|/api//customers//defaultService|None', '<eos>'], 68]\n",
      "[['<sos>', 'PUT|/api//customers//sites//packs...|None', 'PUT|/api//customers//sites//packs...|None', 'PUT|/api//customers//sites//packs...|None', 'PUT|/api//customers//sites//packs...|None', 'PUT|/api//customers//defaultService|None', '<eos>'], 69]\n",
      "[['<sos>', 'PUT|/api//customers//sites//packs...|None', 'PUT|/api//customers//defaultService|None', '<eos>'], 71]\n",
      "[['<sos>', 'PUT|/api//customers//sites/|None', 'PUT|/api//customers//defaultService|None', '<eos>'], 71]\n",
      "neg\n",
      "\n",
      " cluster 5\n",
      "pos\n",
      "[['<sos>', 'PUT|/api//customers//defaultService|None', 'PUT|/api//customers//sites//options|None', 'POST|/api//customers//sites|None', 'POST|/api//customers|None', '<eos>'], 105]\n",
      "[['<sos>', 'POST|/api//customers|None', '<eos>'], 130]\n",
      "[['<sos>', 'POST|/api//customers//sites|None', 'POST|/api//customers|None', '<eos>'], 113]\n",
      "[['<sos>', 'PUT|/api//customers//defaultService|None', 'POST|/api//customers//sites//packs|None', 'POST|/api//customers//sites|None', 'POST|/api//customers|None', '<eos>'], 111]\n",
      "[['<sos>', 'PUT|/api//customers//sites//options|None', 'POST|/api//customers//sites|None', 'POST|/api//customers|None', '<eos>'], 111]\n",
      "neg\n",
      "\n",
      " cluster 6\n",
      "pos\n",
      "[['<sos>', 'PATCH|/api//customers//sites//users//telephonyInformation|None', 'POST|/api//customers//sites//users|None', '<eos>'], 651]\n",
      "[['<sos>', 'POST|/api//customers//sites//users|None', '<eos>'], 812]\n",
      "[['<sos>', 'PATCH|/api//customers//sites//users//telephonyInformation|None', '<eos>'], 2296]\n",
      "neg\n",
      "[['<sos>', 'PUT|/api//customers//sites//users/|None', '<eos>'], 1417]\n",
      "[['<sos>', 'PUT|/api//customers//sites//callcenters//incomingCall|None', '<eos>'], 845]\n",
      "\n",
      " cluster 7\n",
      "pos\n",
      "[['<sos>', 'PUT|/api//customers//sites//didnumbers/+|None', 'PUT|/api//customers//sites//didnumbers/+|None', 'PUT|/api//customers//sites//didnumbers/+|None', 'PUT|/api//customers//sites//didnumbers/+|None', '<eos>'], 79]\n",
      "[['<sos>', 'PUT|/api//customers//sites//didnumbers/+|None', 'PUT|/api//customers//sites//didnumbers/+|None', 'PUT|/api//customers//sites//didnumbers/+|None', 'PUT|/api//customers//sites//didnumbers/+|None', 'PUT|/api//customers//sites//didnumbers/+|None', 'PUT|/api//customers//sites//didnumbers/+|None', '<eos>'], 56]\n",
      "[['<sos>', 'PUT|/api//customers//sites//didnumbers/+|None', 'PUT|/api//customers//sites//didnumbers/+|None', '<eos>'], 92]\n",
      "[['<sos>', 'PUT|/api//customers//sites//didnumbers/+|None', 'PUT|/api//customers//sites//didnumbers/+|None', 'PUT|/api//customers//sites//didnumbers/+|None', 'PUT|/api//customers//sites//didnumbers/+|None', 'PUT|/api//customers//sites//didnumbers/+|None', '<eos>'], 70]\n",
      "[['<sos>', 'PUT|/api//customers//sites//didnumbers/+|None', 'PUT|/api//customers//sites//didnumbers/+|None', 'PUT|/api//customers//sites//didnumbers/+|None', '<eos>'], 83]\n",
      "neg\n",
      "\n",
      " cluster 8\n",
      "pos\n",
      "[['<sos>', 'PUT|/api//customers//sites//users/|None', '<eos>'], 1417]\n",
      "[['<sos>', 'DELETE|/api//customers//sites//users/|None', '<eos>'], 203]\n",
      "[['<sos>', 'PATCH|/api//customers//sites//users//telephonyInformation|None', 'PUT|/api//customers//sites//users/|None', '<eos>'], 717]\n",
      "[['<sos>', 'PATCH|/api//customers//sites//users//telephonyInformation|None', '<eos>'], 2296]\n",
      "neg\n",
      "[['<sos>', 'PUT|/api//customers//sites//callcenters//incomingCall|None', '<eos>'], 845]\n"
     ]
    }
   ],
   "source": [
    "for i,(positive,negative) in enumerate(data):\n",
    "    print('\\n','cluster',i)\n",
    "    print('pos')\n",
    "    for id_ in positive:\n",
    "        print(lst_patterns[id_])\n",
    "    print('neg')\n",
    "    for id_ in negative:\n",
    "        print(lst_patterns[id_])    "
   ]
  },
  {
   "cell_type": "code",
   "execution_count": null,
   "metadata": {},
   "outputs": [],
   "source": []
  }
 ],
 "metadata": {
  "kernelspec": {
   "display_name": "Python 3",
   "language": "python",
   "name": "python3"
  },
  "language_info": {
   "codemirror_mode": {
    "name": "ipython",
    "version": 3
   },
   "file_extension": ".py",
   "mimetype": "text/x-python",
   "name": "python",
   "nbconvert_exporter": "python",
   "pygments_lexer": "ipython3",
   "version": "3.8.10"
  },
  "orig_nbformat": 4
 },
 "nbformat": 4,
 "nbformat_minor": 2
}
